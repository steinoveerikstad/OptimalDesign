{
 "cells": [
  {
   "cell_type": "markdown",
   "metadata": {},
   "source": [
    "# Transportation problem - introduction\n",
    "\n",
    "Consider a set of oil&gas installations in the North Sea, that need regular supply of consumables, spares, etc. This is supplied from a set of bases along the coast of Norway. A fleet of platform supply vessels provides the actual transportaion of the goods from the bases to the installations. Each transport operation from a base to a platform has a given transportation cost per ton transported. Further, each installation has a demand to be fulfilled, and each base has a maximum supply it is able to provide. The decision problem now is to find the optimal transportation plan from the bases to the installations, i.e. the plan that minimizes the total tranportation cost. We call this a _tranportation_ problem.\n",
    "\n"
   ]
  },
  {
   "cell_type": "code",
   "execution_count": null,
   "metadata": {},
   "outputs": [],
   "source": []
  }
 ],
 "metadata": {
  "kernelspec": {
   "display_name": "Python 3",
   "language": "python",
   "name": "python3"
  },
  "language_info": {
   "codemirror_mode": {
    "name": "ipython",
    "version": 3
   },
   "file_extension": ".py",
   "mimetype": "text/x-python",
   "name": "python",
   "nbconvert_exporter": "python",
   "pygments_lexer": "ipython3",
   "version": "3.6.7"
  }
 },
 "nbformat": 4,
 "nbformat_minor": 4
}
