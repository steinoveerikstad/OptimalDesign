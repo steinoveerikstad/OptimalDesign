{
 "cells": [
  {
   "cell_type": "markdown",
   "metadata": {},
   "source": [
    "# A simple genetic algorithm implementation\n",
    "\n",
    "The code below shows a simple genetic algorithm implementation in python, using a single bitstring for finding the maximum of a one-dimensional fitness function"
   ]
  },
  {
   "cell_type": "code",
   "execution_count": 1,
   "metadata": {},
   "outputs": [],
   "source": [
    "import numpy as np\n",
    "import random as rnd\n",
    "import pandas as pd\n",
    "import matplotlib.pyplot as plt\n",
    "%matplotlib inline"
   ]
  },
  {
   "cell_type": "markdown",
   "metadata": {},
   "source": [
    "## Some helper functions\n",
    "\n",
    "We need to convert between a binary and a decimal representation of the individuals many times. Thus, som simple helper functions for this conversion is implemented"
   ]
  },
  {
   "cell_type": "code",
   "execution_count": 2,
   "metadata": {},
   "outputs": [],
   "source": [
    "# Takes a bitstring (of any length) and converts it to a decimal\n",
    "def bin2dec(s):\n",
    "    lst = list(s)\n",
    "    return np.sum([int(lst[i])*2**(len(lst)-i-1) for i in range(len(lst))])"
   ]
  },
  {
   "cell_type": "code",
   "execution_count": 3,
   "metadata": {},
   "outputs": [],
   "source": [
    "# Takes a decimal, and converts it to a bitstring of length n\n",
    "def dec2bin(i,n):\n",
    "    s = [x for x in range(n)]\n",
    "    for j in range(n):\n",
    "        s[j] = int(i/2**(len(s)-j-1))\n",
    "        i = i-s[j]*(2**(len(s)-j-1))        \n",
    "    return ''.join([str(e) for e in s])"
   ]
  },
  {
   "cell_type": "markdown",
   "metadata": {},
   "source": [
    "## The fitness function to be optimized\n",
    "\n",
    "This is the function to be optimized. It takes a single variable, and simply returns the fitness. The function is plotted below"
   ]
  },
  {
   "cell_type": "code",
   "execution_count": 4,
   "metadata": {},
   "outputs": [],
   "source": [
    "def fitness(x):\n",
    "    return 240*x - x**2"
   ]
  },
  {
   "cell_type": "code",
   "execution_count": 5,
   "metadata": {},
   "outputs": [
    {
     "data": {
      "text/plain": [
       "[<matplotlib.lines.Line2D at 0x7fc80153bfd0>]"
      ]
     },
     "execution_count": 5,
     "metadata": {},
     "output_type": "execute_result"
    },
    {
     "data": {
      "image/png": "[encoded data removed]",
      "text/plain": [
       "<Figure size 432x288 with 1 Axes>"
      ]
     },
     "metadata": {
      "needs_background": "light"
     },
     "output_type": "display_data"
    }
   ],
   "source": [
    "x = np.linspace(0, 300, 100)\n",
    "y = fitness(x)\n",
    "plt.plot(x, y)"
   ]
  },
  {
   "cell_type": "markdown",
   "metadata": {},
   "source": [
    "## The GA Selection function\n",
    "\n",
    "The selection function takes a population as input, and returns a selection from this population biased towards individuals with a high fitness value. Highly fit individuals will typically be represented many times in the new selection"
   ]
  },
  {
   "cell_type": "code",
   "execution_count": 21,
   "metadata": {},
   "outputs": [],
   "source": [
    "def selection(pop):\n",
    "    scaleParam = 1.0\n",
    "    pop_d = [bin2dec(x) for x in pop]\n",
    "        \n",
    "    # Select the fittest individuals in the population for mating \n",
    "    ft = [fitness(x) for x in pop_d] #Calculate fitness\n",
    "    ftmin = np.min(ft)                                     # Minimum fitness value for scaling\n",
    "    ft = [ft[x]-int(scaleParam*ftmin) for x in range(0,len(ft))]           # Scale fitness values\n",
    "    ftsum = np.sum(ft)                                     # Sum of all fitness values\n",
    "    ftave = np.average(ft)\n",
    "\n",
    "    fitshare = [(fitness(x)-scaleParam*ftmin)/ftsum for x in pop_d]   # Calculate relative share of fitness for each individual\n",
    "    fit_aggr_share = [np.sum(fitshare[0:x]) for x in range(0,len(fitshare))]\n",
    "    \n",
    "    # Select by drawing a random number, and choose corresponding individual (spinning wheel)\n",
    "    selPop = [pop[np.searchsorted(fit_aggr_share,rnd.random())-1] for x in ft]\n",
    "    selPop_d = [bin2dec(x) for x in selPop]\n",
    "    ftSel = [fitness(x) for x in selPop_d] #Calculate fitness\n",
    "\n",
    "    # Creating a dataframe for reporting from each generation\n",
    "    df = pd.DataFrame(pop, columns=['Ind'])\n",
    "    df['Decimal'] = pop_d\n",
    "    df['Fitness'] = [fitness(x) for x in pop_d]\n",
    "    df['Scaled'] = ft\n",
    "    df['Share'] = fitshare\n",
    "    df['Aggr'] = fit_aggr_share\n",
    "    df['SelPop'] = selPop\n",
    "    df['SelPopDec'] = selPop_d\n",
    "    df['selFitness'] = ftSel\n",
    "        \n",
    "    return selPop, df"
   ]
  },
  {
   "cell_type": "markdown",
   "metadata": {},
   "source": [
    "## The GA Crossover function\n",
    "\n",
    "The crossover function takes pairs of individuals from the populations, (in the mate() function) splits the bitstring in two at an arbitrary point, and switches one part between the individuals"
   ]
  },
  {
   "cell_type": "code",
   "execution_count": 22,
   "metadata": {},
   "outputs": [],
   "source": [
    "# Receives two individuals, splits at the random position x, and switches bitstring material\n",
    "def mate(i1,i2):\n",
    "    x = rnd.randint(1,len(i1)-1)\n",
    "    i1new = i1[0:x] + i2[x:len(i2)]\n",
    "    i2new = i2[0:x] + i1[x:len(i1)]\n",
    "\n",
    "    return i1new,i2new,x"
   ]
  },
  {
   "cell_type": "code",
   "execution_count": 23,
   "metadata": {},
   "outputs": [],
   "source": [
    "def crossover(pop, df):\n",
    "    # The next line creates pairs of offsprings\n",
    "    newPop = [[x[0],x[1]] for x in [mate(pop[i], pop[i+1]) for i in range(0,len(pop)-1,2)]]\n",
    "    # We need to flatten the pair list to a single list\n",
    "    newPop = [x for y in newPop for x in y]\n",
    "\n",
    "    df['Before'] = pop\n",
    "    df['Crossed'] = newPop\n",
    "    df['Values'] = [bin2dec(x) for x in newPop]\n",
    "    df['Fx'] = [fitness(y) for y in [bin2dec(x) for x in newPop]]\n",
    "\n",
    "    return newPop, df"
   ]
  },
  {
   "cell_type": "markdown",
   "metadata": {},
   "source": [
    "## The GA Mutation function\n",
    "\n",
    "The mutation function selects random individuals in the population (with probability prob)  and flips the bit at an arbitrary point in the string"
   ]
  },
  {
   "cell_type": "code",
   "execution_count": 24,
   "metadata": {},
   "outputs": [],
   "source": [
    "def flipBit(x):\n",
    "    pos = rnd.randint(0,len(x)-1)\n",
    "    new = '1' if x[pos]=='0' else '0'\n",
    "    x = x[:pos] + new + x[pos+1:]\n",
    "    return x\n",
    "    \n",
    "def mutate(pop, prob, verbose=False):\n",
    "    pop = [flipBit(x) if (rnd.random()<prob) else x for x in pop]\n",
    "    return pop"
   ]
  },
  {
   "cell_type": "markdown",
   "metadata": {},
   "source": [
    "## Creating successive generations towards an optimal solution"
   ]
  },
  {
   "cell_type": "code",
   "execution_count": 25,
   "metadata": {},
   "outputs": [],
   "source": [
    "def state(pop):\n",
    "    pop_d = [bin2dec(x) for x in pop]\n",
    "    avg_fitness = np.average([fitness(x) for x in pop_d])\n",
    "    best_val = np.amax([fitness(x) for x in pop_d])\n",
    "    best_ind = pop_d[np.argmax([fitness(x) for x in pop_d])]\n",
    "    return pop, avg_fitness, best_ind, best_val"
   ]
  },
  {
   "cell_type": "code",
   "execution_count": 26,
   "metadata": {},
   "outputs": [],
   "source": [
    "def ga_iterate(pop, printIter=False):\n",
    "    pop, df = selection(pop)\n",
    "    pop, df = crossover(pop, df)\n",
    "    pop = mutate(pop, 0.3)\n",
    "    df['AfterMut'] = [bin2dec(x) for x in pop]\n",
    "    df['ValAfterMut'] = [fitness(y) for y in [bin2dec(x) for x in pop]]\n",
    "    \n",
    "    # Print the dataframe for each iteration if printIter is True\n",
    "    if printIter:\n",
    "        print(df)\n",
    "\n",
    "    return state(pop)"
   ]
  },
  {
   "cell_type": "code",
   "execution_count": 32,
   "metadata": {},
   "outputs": [
    {
     "name": "stdout",
     "output_type": "stream",
     "text": [
      "    BestInd  BestValue           Avg  SavedBest\n",
      "0     117.0    14391.0  10917.966667      117.0\n",
      "1     118.0    14396.0  11584.900000      118.0\n",
      "2     122.0    14396.0  10040.300000      122.0\n",
      "3     115.0    14375.0  12162.266667      122.0\n",
      "4     115.0    14375.0  12671.633333      122.0\n",
      "5     115.0    14375.0  11650.566667      122.0\n",
      "6     115.0    14375.0  12207.000000      122.0\n",
      "7     115.0    14375.0  12573.933333      122.0\n",
      "8     115.0    14375.0  13086.900000      122.0\n",
      "9     120.0    14400.0  13250.700000      120.0\n",
      "10    120.0    14400.0  13331.200000      120.0\n",
      "11    120.0    14400.0  12498.833333      120.0\n",
      "12    119.0    14399.0  13261.933333      120.0\n",
      "13    119.0    14399.0  12457.966667      120.0\n",
      "14    119.0    14399.0  12730.800000      120.0\n",
      "15    120.0    14400.0  13622.066667      120.0\n",
      "16    120.0    14400.0  13699.666667      120.0\n",
      "17    120.0    14400.0  13817.200000      120.0\n",
      "18    120.0    14400.0  13915.666667      120.0\n",
      "19    120.0    14400.0  13676.133333      120.0\n"
     ]
    },
    {
     "data": {
      "text/plain": [
       "<matplotlib.axes._subplots.AxesSubplot at 0x7fc8082e1f60>"
      ]
     },
     "execution_count": 32,
     "metadata": {},
     "output_type": "execute_result"
    },
    {
     "data": {
      "image/png": "[encoded data removed]",
      "text/plain": [
       "<Figure size 432x288 with 1 Axes>"
      ]
     },
     "metadata": {
      "needs_background": "light"
     },
     "output_type": "display_data"
    }
   ],
   "source": [
    "pop_d = [rnd.randint(0,200) for i in range(30)]\n",
    "pop_b = [dec2bin(x,8) for x in pop_d]\n",
    "dfRes = pd.DataFrame(columns=['BestInd', 'BestValue', 'Avg', 'SavedBest'])\n",
    "savedBest = 0\n",
    "for i in range(20):\n",
    "    #print('ITERATION ' + str(i) + ':')\n",
    "    pop_b, avg, best_ind, best_val = ga_iterate(pop_b, printIter=False)\n",
    "    savedBest = best_ind if best_val >= fitness(savedBest) else savedBest \n",
    "    dfRes = dfRes.append({'BestInd': best_ind, 'BestValue' : best_val , 'Avg' : avg, 'SavedBest' : savedBest} , ignore_index=True)\n",
    "    \n",
    "print(dfRes)\n",
    "dfRes['BestInd'].plot()"
   ]
  },
  {
   "cell_type": "code",
   "execution_count": null,
   "metadata": {},
   "outputs": [],
   "source": []
  }
 ],
 "metadata": {
  "kernelspec": {
   "display_name": "Python 3",
   "language": "python",
   "name": "python3"
  },
  "language_info": {
   "codemirror_mode": {
    "name": "ipython",
    "version": 3
   },
   "file_extension": ".py",
   "mimetype": "text/x-python",
   "name": "python",
   "nbconvert_exporter": "python",
   "pygments_lexer": "ipython3",
   "version": "3.7.4"
  }
 },
 "nbformat": 4,
 "nbformat_minor": 4
}
